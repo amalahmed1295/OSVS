{
  "nbformat": 4,
  "nbformat_minor": 0,
  "metadata": {
    "colab": {
      "provenance": [],
      "toc_visible": true,
      "authorship_tag": "ABX9TyMbsgFquNQjUpd8b5vcMKA+"
    },
    "kernelspec": {
      "name": "python3",
      "display_name": "Python 3"
    },
    "language_info": {
      "name": "python"
    }
  },
  "cells": [
    {
      "cell_type": "markdown",
      "source": [
        "# Offline Signature Verification Program\n",
        "classifying a preprocessed, labeled signature image samples using a CNN classifier."
      ],
      "metadata": {
        "id": "DvElCuGcrkWK"
      }
    },
    {
      "cell_type": "markdown",
      "source": [
        "**Uploading related files**\n",
        "\n",
        "Uploading zip file by the help of files instance of google colab."
      ],
      "metadata": {
        "id": "LXJDiZfurInm"
      }
    },
    {
      "cell_type": "code",
      "source": [
        "from google.colab import files\n",
        "uploaded = files.upload()"
      ],
      "metadata": {
        "colab": {
          "base_uri": "https://localhost:8080/",
          "height": 73
        },
        "id": "69IHS8KI3EJ6",
        "outputId": "fad2d0aa-9ea3-498c-9308-28f9220cd76b"
      },
      "execution_count": null,
      "outputs": [
        {
          "output_type": "display_data",
          "data": {
            "text/plain": [
              "<IPython.core.display.HTML object>"
            ],
            "text/html": [
              "\n",
              "     <input type=\"file\" id=\"files-552455c5-b057-4c35-8cb6-aa34dfcbd1ed\" name=\"files[]\" multiple disabled\n",
              "        style=\"border:none\" />\n",
              "     <output id=\"result-552455c5-b057-4c35-8cb6-aa34dfcbd1ed\">\n",
              "      Upload widget is only available when the cell has been executed in the\n",
              "      current browser session. Please rerun this cell to enable.\n",
              "      </output>\n",
              "      <script>// Copyright 2017 Google LLC\n",
              "//\n",
              "// Licensed under the Apache License, Version 2.0 (the \"License\");\n",
              "// you may not use this file except in compliance with the License.\n",
              "// You may obtain a copy of the License at\n",
              "//\n",
              "//      http://www.apache.org/licenses/LICENSE-2.0\n",
              "//\n",
              "// Unless required by applicable law or agreed to in writing, software\n",
              "// distributed under the License is distributed on an \"AS IS\" BASIS,\n",
              "// WITHOUT WARRANTIES OR CONDITIONS OF ANY KIND, either express or implied.\n",
              "// See the License for the specific language governing permissions and\n",
              "// limitations under the License.\n",
              "\n",
              "/**\n",
              " * @fileoverview Helpers for google.colab Python module.\n",
              " */\n",
              "(function(scope) {\n",
              "function span(text, styleAttributes = {}) {\n",
              "  const element = document.createElement('span');\n",
              "  element.textContent = text;\n",
              "  for (const key of Object.keys(styleAttributes)) {\n",
              "    element.style[key] = styleAttributes[key];\n",
              "  }\n",
              "  return element;\n",
              "}\n",
              "\n",
              "// Max number of bytes which will be uploaded at a time.\n",
              "const MAX_PAYLOAD_SIZE = 100 * 1024;\n",
              "\n",
              "function _uploadFiles(inputId, outputId) {\n",
              "  const steps = uploadFilesStep(inputId, outputId);\n",
              "  const outputElement = document.getElementById(outputId);\n",
              "  // Cache steps on the outputElement to make it available for the next call\n",
              "  // to uploadFilesContinue from Python.\n",
              "  outputElement.steps = steps;\n",
              "\n",
              "  return _uploadFilesContinue(outputId);\n",
              "}\n",
              "\n",
              "// This is roughly an async generator (not supported in the browser yet),\n",
              "// where there are multiple asynchronous steps and the Python side is going\n",
              "// to poll for completion of each step.\n",
              "// This uses a Promise to block the python side on completion of each step,\n",
              "// then passes the result of the previous step as the input to the next step.\n",
              "function _uploadFilesContinue(outputId) {\n",
              "  const outputElement = document.getElementById(outputId);\n",
              "  const steps = outputElement.steps;\n",
              "\n",
              "  const next = steps.next(outputElement.lastPromiseValue);\n",
              "  return Promise.resolve(next.value.promise).then((value) => {\n",
              "    // Cache the last promise value to make it available to the next\n",
              "    // step of the generator.\n",
              "    outputElement.lastPromiseValue = value;\n",
              "    return next.value.response;\n",
              "  });\n",
              "}\n",
              "\n",
              "/**\n",
              " * Generator function which is called between each async step of the upload\n",
              " * process.\n",
              " * @param {string} inputId Element ID of the input file picker element.\n",
              " * @param {string} outputId Element ID of the output display.\n",
              " * @return {!Iterable<!Object>} Iterable of next steps.\n",
              " */\n",
              "function* uploadFilesStep(inputId, outputId) {\n",
              "  const inputElement = document.getElementById(inputId);\n",
              "  inputElement.disabled = false;\n",
              "\n",
              "  const outputElement = document.getElementById(outputId);\n",
              "  outputElement.innerHTML = '';\n",
              "\n",
              "  const pickedPromise = new Promise((resolve) => {\n",
              "    inputElement.addEventListener('change', (e) => {\n",
              "      resolve(e.target.files);\n",
              "    });\n",
              "  });\n",
              "\n",
              "  const cancel = document.createElement('button');\n",
              "  inputElement.parentElement.appendChild(cancel);\n",
              "  cancel.textContent = 'Cancel upload';\n",
              "  const cancelPromise = new Promise((resolve) => {\n",
              "    cancel.onclick = () => {\n",
              "      resolve(null);\n",
              "    };\n",
              "  });\n",
              "\n",
              "  // Wait for the user to pick the files.\n",
              "  const files = yield {\n",
              "    promise: Promise.race([pickedPromise, cancelPromise]),\n",
              "    response: {\n",
              "      action: 'starting',\n",
              "    }\n",
              "  };\n",
              "\n",
              "  cancel.remove();\n",
              "\n",
              "  // Disable the input element since further picks are not allowed.\n",
              "  inputElement.disabled = true;\n",
              "\n",
              "  if (!files) {\n",
              "    return {\n",
              "      response: {\n",
              "        action: 'complete',\n",
              "      }\n",
              "    };\n",
              "  }\n",
              "\n",
              "  for (const file of files) {\n",
              "    const li = document.createElement('li');\n",
              "    li.append(span(file.name, {fontWeight: 'bold'}));\n",
              "    li.append(span(\n",
              "        `(${file.type || 'n/a'}) - ${file.size} bytes, ` +\n",
              "        `last modified: ${\n",
              "            file.lastModifiedDate ? file.lastModifiedDate.toLocaleDateString() :\n",
              "                                    'n/a'} - `));\n",
              "    const percent = span('0% done');\n",
              "    li.appendChild(percent);\n",
              "\n",
              "    outputElement.appendChild(li);\n",
              "\n",
              "    const fileDataPromise = new Promise((resolve) => {\n",
              "      const reader = new FileReader();\n",
              "      reader.onload = (e) => {\n",
              "        resolve(e.target.result);\n",
              "      };\n",
              "      reader.readAsArrayBuffer(file);\n",
              "    });\n",
              "    // Wait for the data to be ready.\n",
              "    let fileData = yield {\n",
              "      promise: fileDataPromise,\n",
              "      response: {\n",
              "        action: 'continue',\n",
              "      }\n",
              "    };\n",
              "\n",
              "    // Use a chunked sending to avoid message size limits. See b/62115660.\n",
              "    let position = 0;\n",
              "    do {\n",
              "      const length = Math.min(fileData.byteLength - position, MAX_PAYLOAD_SIZE);\n",
              "      const chunk = new Uint8Array(fileData, position, length);\n",
              "      position += length;\n",
              "\n",
              "      const base64 = btoa(String.fromCharCode.apply(null, chunk));\n",
              "      yield {\n",
              "        response: {\n",
              "          action: 'append',\n",
              "          file: file.name,\n",
              "          data: base64,\n",
              "        },\n",
              "      };\n",
              "\n",
              "      let percentDone = fileData.byteLength === 0 ?\n",
              "          100 :\n",
              "          Math.round((position / fileData.byteLength) * 100);\n",
              "      percent.textContent = `${percentDone}% done`;\n",
              "\n",
              "    } while (position < fileData.byteLength);\n",
              "  }\n",
              "\n",
              "  // All done.\n",
              "  yield {\n",
              "    response: {\n",
              "      action: 'complete',\n",
              "    }\n",
              "  };\n",
              "}\n",
              "\n",
              "scope.google = scope.google || {};\n",
              "scope.google.colab = scope.google.colab || {};\n",
              "scope.google.colab._files = {\n",
              "  _uploadFiles,\n",
              "  _uploadFilesContinue,\n",
              "};\n",
              "})(self);\n",
              "</script> "
            ]
          },
          "metadata": {}
        },
        {
          "output_type": "stream",
          "name": "stdout",
          "text": [
            "Saving Samples.zip to Samples.zip\n"
          ]
        }
      ]
    },
    {
      "cell_type": "markdown",
      "source": [
        "Unzipping the samples.zip file by the help of zipfile module."
      ],
      "metadata": {
        "id": "5mMRC7EjsNIL"
      }
    },
    {
      "cell_type": "code",
      "source": [
        "import zipfile  #module reads and writes zip files\n",
        "\n",
        "zip_file_name = 'Samples.zip' # uploaded 'Samples.zip'\n",
        "\n",
        "# Extract the ZIP file\n",
        "with zipfile.ZipFile(zip_file_name, 'r') as zip_ref:\n",
        "    zip_ref.extractall()\n",
        "\n",
        "# Get the folder name (without the .zip extension)\n",
        "folder_name = zip_file_name.replace('.zip', '')"
      ],
      "metadata": {
        "colab": {
          "base_uri": "https://localhost:8080/",
          "height": 332
        },
        "id": "F8Rb68AdAeaq",
        "outputId": "0ffefb9c-0c66-4c42-862c-f4b11a8dce0c"
      },
      "execution_count": null,
      "outputs": [
        {
          "output_type": "error",
          "ename": "FileNotFoundError",
          "evalue": "[Errno 2] No such file or directory: 'Samples.zip'",
          "traceback": [
            "\u001b[0;31m---------------------------------------------------------------------------\u001b[0m",
            "\u001b[0;31mFileNotFoundError\u001b[0m                         Traceback (most recent call last)",
            "\u001b[0;32m<ipython-input-1-cfb8317a1871>\u001b[0m in \u001b[0;36m<cell line: 6>\u001b[0;34m()\u001b[0m\n\u001b[1;32m      4\u001b[0m \u001b[0;34m\u001b[0m\u001b[0m\n\u001b[1;32m      5\u001b[0m \u001b[0;31m# Extract the ZIP file\u001b[0m\u001b[0;34m\u001b[0m\u001b[0;34m\u001b[0m\u001b[0m\n\u001b[0;32m----> 6\u001b[0;31m \u001b[0;32mwith\u001b[0m \u001b[0mzipfile\u001b[0m\u001b[0;34m.\u001b[0m\u001b[0mZipFile\u001b[0m\u001b[0;34m(\u001b[0m\u001b[0mzip_file_name\u001b[0m\u001b[0;34m,\u001b[0m \u001b[0;34m'r'\u001b[0m\u001b[0;34m)\u001b[0m \u001b[0;32mas\u001b[0m \u001b[0mzip_ref\u001b[0m\u001b[0;34m:\u001b[0m\u001b[0;34m\u001b[0m\u001b[0;34m\u001b[0m\u001b[0m\n\u001b[0m\u001b[1;32m      7\u001b[0m     \u001b[0mzip_ref\u001b[0m\u001b[0;34m.\u001b[0m\u001b[0mextractall\u001b[0m\u001b[0;34m(\u001b[0m\u001b[0;34m)\u001b[0m\u001b[0;34m\u001b[0m\u001b[0;34m\u001b[0m\u001b[0m\n\u001b[1;32m      8\u001b[0m \u001b[0;34m\u001b[0m\u001b[0m\n",
            "\u001b[0;32m/usr/lib/python3.10/zipfile.py\u001b[0m in \u001b[0;36m__init__\u001b[0;34m(self, file, mode, compression, allowZip64, compresslevel, strict_timestamps)\u001b[0m\n\u001b[1;32m   1249\u001b[0m             \u001b[0;32mwhile\u001b[0m \u001b[0;32mTrue\u001b[0m\u001b[0;34m:\u001b[0m\u001b[0;34m\u001b[0m\u001b[0;34m\u001b[0m\u001b[0m\n\u001b[1;32m   1250\u001b[0m                 \u001b[0;32mtry\u001b[0m\u001b[0;34m:\u001b[0m\u001b[0;34m\u001b[0m\u001b[0;34m\u001b[0m\u001b[0m\n\u001b[0;32m-> 1251\u001b[0;31m                     \u001b[0mself\u001b[0m\u001b[0;34m.\u001b[0m\u001b[0mfp\u001b[0m \u001b[0;34m=\u001b[0m \u001b[0mio\u001b[0m\u001b[0;34m.\u001b[0m\u001b[0mopen\u001b[0m\u001b[0;34m(\u001b[0m\u001b[0mfile\u001b[0m\u001b[0;34m,\u001b[0m \u001b[0mfilemode\u001b[0m\u001b[0;34m)\u001b[0m\u001b[0;34m\u001b[0m\u001b[0;34m\u001b[0m\u001b[0m\n\u001b[0m\u001b[1;32m   1252\u001b[0m                 \u001b[0;32mexcept\u001b[0m \u001b[0mOSError\u001b[0m\u001b[0;34m:\u001b[0m\u001b[0;34m\u001b[0m\u001b[0;34m\u001b[0m\u001b[0m\n\u001b[1;32m   1253\u001b[0m                     \u001b[0;32mif\u001b[0m \u001b[0mfilemode\u001b[0m \u001b[0;32min\u001b[0m \u001b[0mmodeDict\u001b[0m\u001b[0;34m:\u001b[0m\u001b[0;34m\u001b[0m\u001b[0;34m\u001b[0m\u001b[0m\n",
            "\u001b[0;31mFileNotFoundError\u001b[0m: [Errno 2] No such file or directory: 'Samples.zip'"
          ]
        }
      ]
    },
    {
      "cell_type": "markdown",
      "source": [
        "looking inside the samples directory by listing its the items."
      ],
      "metadata": {
        "id": "toz7tVWpslVG"
      }
    },
    {
      "cell_type": "code",
      "source": [
        "import os #module allows interacting with the operating system\n",
        "\n",
        "# List files in the folder to verify\n",
        "os.listdir(folder_name)"
      ],
      "metadata": {
        "colab": {
          "base_uri": "https://localhost:8080/"
        },
        "id": "vlCgH1u-A_5Q",
        "outputId": "a7ee6230-6f9d-40eb-dfe2-fd85981b06f6"
      },
      "execution_count": null,
      "outputs": [
        {
          "output_type": "execute_result",
          "data": {
            "text/plain": [
              "['full_forg', 'full_org']"
            ]
          },
          "metadata": {},
          "execution_count": 4
        }
      ]
    },
    {
      "cell_type": "markdown",
      "source": [
        "**forming dataset**"
      ],
      "metadata": {
        "id": "vmeaPi7QZtoy"
      }
    },
    {
      "cell_type": "code",
      "source": [
        "#importing important tools\n",
        "\n",
        "import tensorflow as tf"
      ],
      "metadata": {
        "id": "DaVn4QreA_zN"
      },
      "execution_count": null,
      "outputs": []
    },
    {
      "cell_type": "code",
      "source": [
        "dataset_dir ='Samples'"
      ],
      "metadata": {
        "id": "hf578oh8Bp1E"
      },
      "execution_count": null,
      "outputs": []
    },
    {
      "cell_type": "markdown",
      "source": [
        "forming the dataset using tf.keras.utils module which access the function \"image_data_from_directory\". It takes directory path which includes subdirectories within directory, each containing images for a particular class.\n",
        "dataset variable hold the dataset \"tf.data.Dataset\" which is generated. It provides various methods for data manipulation, batching, shuffling, prefetching, etc."
      ],
      "metadata": {
        "id": "wFcG9sL5W5IN"
      }
    },
    {
      "cell_type": "code",
      "source": [
        "dataset = tf.keras.utils.image_dataset_from_directory(dataset_dir,color_mode='grayscale')"
      ],
      "metadata": {
        "colab": {
          "base_uri": "https://localhost:8080/"
        },
        "id": "AUzPfBwvCFkw",
        "outputId": "c51e4ced-f197-4d72-8c0d-330ddcc401ba"
      },
      "execution_count": null,
      "outputs": [
        {
          "output_type": "stream",
          "name": "stdout",
          "text": [
            "Found 2640 files belonging to 2 classes.\n"
          ]
        }
      ]
    },
    {
      "cell_type": "markdown",
      "source": [
        "**Normalizing and binarizing dataset**\n",
        "\n",
        "Normalizing image pixels between 0 and 1, Then binarize the image using the threshold of 0.5. Now the images pixels have only values of 1 and zero."
      ],
      "metadata": {
        "id": "GK_bbqu6mWMh"
      }
    },
    {
      "cell_type": "code",
      "source": [
        "def binarize(images, threshold):\n",
        "    # Normalize the images to [0, 1]\n",
        "    images = images / 255.0\n",
        "    # Apply the threshold\n",
        "    binary_images = tf.where(images > threshold, 1.0, 0.0)\n",
        "    return binary_images"
      ],
      "metadata": {
        "id": "KShzq8HJKnbj"
      },
      "execution_count": null,
      "outputs": []
    },
    {
      "cell_type": "markdown",
      "source": [
        "The images are binarize using maping function to map the dataset images to their binarizied ones. Labels remains the same.\n",
        "\n",
        "The length of the data is 83 batches. 2640 images and their labels are devided into 82 batch, each batch contains 32 binarized image. The last batch contains the rest of the images(16 image)."
      ],
      "metadata": {
        "id": "pTtuLausvKBz"
      }
    },
    {
      "cell_type": "code",
      "source": [
        "binary_dataset = dataset.map(lambda image, label: (binarize(image, 0.5),label))\n",
        "len(binary_dataset)"
      ],
      "metadata": {
        "colab": {
          "base_uri": "https://localhost:8080/"
        },
        "id": "cX6lkcCAKyP0",
        "outputId": "83eb1496-6314-4757-eeb5-5e02acd8aaa8"
      },
      "execution_count": null,
      "outputs": [
        {
          "output_type": "execute_result",
          "data": {
            "text/plain": [
              "83"
            ]
          },
          "metadata": {},
          "execution_count": 83
        }
      ]
    },
    {
      "cell_type": "markdown",
      "source": [
        "Inverting the image by subtracting each image pixel from 1"
      ],
      "metadata": {
        "id": "_IL8-hj8vFIB"
      }
    },
    {
      "cell_type": "code",
      "source": [
        "inverted_dataset = binary_dataset.map(lambda image, label: (image-1,label))\n",
        "len(inverted_dataset)"
      ],
      "metadata": {
        "colab": {
          "base_uri": "https://localhost:8080/"
        },
        "id": "E-HIi7bwDcuM",
        "outputId": "a38909fc-c777-4b64-9fd4-ad4cb773143c"
      },
      "execution_count": null,
      "outputs": [
        {
          "output_type": "execute_result",
          "data": {
            "text/plain": [
              "83"
            ]
          },
          "metadata": {},
          "execution_count": 84
        }
      ]
    },
    {
      "cell_type": "markdown",
      "source": [
        " creating an iterator that yields batches from the inverted_dataset as NumPy arrays."
      ],
      "metadata": {
        "id": "_7DFfgufweHg"
      }
    },
    {
      "cell_type": "code",
      "source": [
        "data_iterator = inverted_dataset.as_numpy_iterator()"
      ],
      "metadata": {
        "id": "wv0dI7FlHm0m"
      },
      "execution_count": null,
      "outputs": []
    },
    {
      "cell_type": "markdown",
      "source": [
        "It takes the first batch from data_iterator. We can notice that the shape of batch is a 4 D array(size of batch, rows, columns, channels). Sample of batch content is shown below."
      ],
      "metadata": {
        "id": "mJGCR0y4ydU5"
      }
    },
    {
      "cell_type": "code",
      "source": [
        "batch= data_iterator.next()\n",
        "print(len(batch))\n",
        "print(batch[0].shape)\n",
        "images =batch[0]\n",
        "images[0].shape"
      ],
      "metadata": {
        "colab": {
          "base_uri": "https://localhost:8080/"
        },
        "id": "T4wy8kfFTAEY",
        "outputId": "0bc74005-d9a8-4177-c542-9799e6c5b201"
      },
      "execution_count": null,
      "outputs": [
        {
          "output_type": "stream",
          "name": "stdout",
          "text": [
            "2\n",
            "(32, 256, 256, 1)\n"
          ]
        },
        {
          "output_type": "execute_result",
          "data": {
            "text/plain": [
              "(256, 256, 1)"
            ]
          },
          "metadata": {},
          "execution_count": 86
        }
      ]
    },
    {
      "cell_type": "code",
      "source": [
        "print(len(images))\n",
        "print(images[0])"
      ],
      "metadata": {
        "colab": {
          "base_uri": "https://localhost:8080/"
        },
        "id": "7L7YmBpJQ_z8",
        "outputId": "8f9b090b-0ad8-4463-8572-88245c4f2130"
      },
      "execution_count": null,
      "outputs": [
        {
          "output_type": "stream",
          "name": "stdout",
          "text": [
            "32\n",
            "[[[0.]\n",
            "  [0.]\n",
            "  [0.]\n",
            "  ...\n",
            "  [0.]\n",
            "  [0.]\n",
            "  [0.]]\n",
            "\n",
            " [[0.]\n",
            "  [0.]\n",
            "  [0.]\n",
            "  ...\n",
            "  [0.]\n",
            "  [0.]\n",
            "  [0.]]\n",
            "\n",
            " [[0.]\n",
            "  [0.]\n",
            "  [0.]\n",
            "  ...\n",
            "  [0.]\n",
            "  [0.]\n",
            "  [0.]]\n",
            "\n",
            " ...\n",
            "\n",
            " [[0.]\n",
            "  [0.]\n",
            "  [0.]\n",
            "  ...\n",
            "  [0.]\n",
            "  [0.]\n",
            "  [0.]]\n",
            "\n",
            " [[0.]\n",
            "  [0.]\n",
            "  [0.]\n",
            "  ...\n",
            "  [0.]\n",
            "  [0.]\n",
            "  [0.]]\n",
            "\n",
            " [[0.]\n",
            "  [0.]\n",
            "  [0.]\n",
            "  ...\n",
            "  [0.]\n",
            "  [0.]\n",
            "  [0.]]]\n"
          ]
        }
      ]
    },
    {
      "cell_type": "markdown",
      "source": [
        "An example of an original preprocessed image visualized by the help of matplotlib"
      ],
      "metadata": {
        "id": "zEddYu7MV2lE"
      }
    },
    {
      "cell_type": "code",
      "source": [
        "import matplotlib.pyplot as plt\n",
        "\n",
        "# Plot the first image in the batch\n",
        "plt.figure(figsize=(5, 5))\n",
        "plt.imshow(batch[0][0].squeeze(), cmap='gray_r')  # Use the reversed grayscale colormap\n",
        "plt.title(batch[1][0])  # Set the title to the corresponding label\n",
        "plt.axis('off')  # Turn off axis\n",
        "plt.show()  # Display the plot"
      ],
      "metadata": {
        "colab": {
          "base_uri": "https://localhost:8080/",
          "height": 444
        },
        "id": "g14B4A7KTxKZ",
        "outputId": "0bf95298-2aed-448c-bf74-e5454a6012a2"
      },
      "execution_count": null,
      "outputs": [
        {
          "output_type": "display_data",
          "data": {
            "text/plain": [
              "<Figure size 500x500 with 1 Axes>"
            ],
            "image/png": "[encoded data removed]"
          },
          "metadata": {}
        }
      ]
    },
    {
      "cell_type": "markdown",
      "source": [
        "dividing the dataset into training, validation, and testing sets. The sizes of each are given below."
      ],
      "metadata": {
        "id": "aE-tgHxlz9tD"
      }
    },
    {
      "cell_type": "code",
      "source": [
        "# we added one because test_size gives zero and validation size gives 1\n",
        "train_size = int(len(binary_dataset)*0.7)\n",
        "validation_size = int(len(binary_dataset)*0.2)+1\n",
        "test_size = int(len(binary_dataset)*0.1)\n",
        "print(train_size)\n",
        "print(validation_size)\n",
        "print(test_size)"
      ],
      "metadata": {
        "colab": {
          "base_uri": "https://localhost:8080/"
        },
        "id": "15GCN6TmNP6K",
        "outputId": "9a82a5d8-a8b8-4224-a96d-80f427d470c3"
      },
      "execution_count": null,
      "outputs": [
        {
          "output_type": "stream",
          "name": "stdout",
          "text": [
            "58\n",
            "17\n",
            "8\n"
          ]
        }
      ]
    },
    {
      "cell_type": "markdown",
      "source": [
        "The datasets are ready now to be given to the CNN model."
      ],
      "metadata": {
        "id": "2OKCkCWx1Nup"
      }
    },
    {
      "cell_type": "code",
      "source": [
        "train = inverted_dataset.take(train_size)\n",
        "validat = inverted_dataset.skip(train_size).take(validation_size)\n",
        "test = inverted_dataset.skip(train_size + validation_size).take(test_size)"
      ],
      "metadata": {
        "id": "SZ0Cm3IaWCQR"
      },
      "execution_count": null,
      "outputs": []
    },
    {
      "cell_type": "markdown",
      "source": [
        "Import the model type and layers that will be used  to create the CNN classifier. Since there are no multiple inputs/outputs, Sequential builder api has been used. It stack layers in a linear, one-by-one fashion. It is straightforward and easy to use for models where each layer has exactly one input tensor and one output tensor."
      ],
      "metadata": {
        "id": "3Ym_f-B71j4r"
      }
    },
    {
      "cell_type": "code",
      "source": [
        "from tensorflow.keras.models import Sequential #class\n",
        "from tensorflow.keras.layers import Conv2D, MaxPooling2D, Dense, Flatten, Dropout #classes"
      ],
      "metadata": {
        "id": "Oac50Td8WgAB"
      },
      "execution_count": null,
      "outputs": []
    },
    {
      "cell_type": "markdown",
      "source": [
        "Since images are in 2 dimetional pixel aray with one channel, The use of 2D convolutional layer is advicable.\n",
        "\n",
        "Adds a 2D convolution layer with 16 filters, each of size 3x3, and a stride of 1. The stride of 1 means the filter moves 1 pixel at a time across the input. ReLU (Rectified Linear Unit) activation function, which only passes positive values and sets negative values to zero.\n",
        "\n"
      ],
      "metadata": {
        "id": "Bi-5DBFJJXRi"
      }
    },
    {
      "cell_type": "code",
      "source": [
        "#model type\n",
        "cnn_model = Sequential()\n",
        "\n",
        "#adding layer sequentially to the model, conv: 16 kernals, each is 3x3, stride of 1 pixel each time\n",
        "#these all are architecture decisions\n",
        "#the best architecture of a model for a specific problem: state of the art model\n",
        "#relu takes the positive values only\n",
        "cnn_model.add(Conv2D(16, (3,3), 1, activation='relu', input_shape=(256,256,1)))\n",
        "#reduced half of the data(half of the rows and half of the columns)\n",
        "cnn_model.add(MaxPooling2D())\n",
        "\n",
        "cnn_model.add(Conv2D(32, (3,3), 1, activation='relu'))\n",
        "cnn_model.add(MaxPooling2D())\n",
        "\n",
        "cnn_model.add(Conv2D(16, (3,3), 1, activation='relu'))\n",
        "cnn_model.add(MaxPooling2D())\n",
        "\n",
        "#condense the rows and columns, and the filter will form the channel value\n",
        "#when we pass the output to dense, we dont want the channel value so we condense it to a single value\n",
        "cnn_model.add(Flatten()) # condense multi-rank tensor to one dimension\n",
        "\n",
        "cnn_model.add(Dense(256, activation='relu')) #256 output (weights+ bias)\n",
        "cnn_model.add(Dense(1, activation='sigmoid')) # one output(zero or one)"
      ],
      "metadata": {
        "id": "0jBkGeq9Wra7"
      },
      "execution_count": null,
      "outputs": []
    },
    {
      "cell_type": "code",
      "source": [
        "#optimizer, loss function, accuracy\n",
        "cnn_model.compile('adam', loss = tf.losses.BinaryCrossentropy(), metrics = ['accuracy'])\n",
        "print(cnn_model.summary())"
      ],
      "metadata": {
        "colab": {
          "base_uri": "https://localhost:8080/"
        },
        "id": "Zy13dxbdW6jx",
        "outputId": "af16e481-9deb-4865-9c77-a1c13293102a"
      },
      "execution_count": null,
      "outputs": [
        {
          "output_type": "stream",
          "name": "stdout",
          "text": [
            "Model: \"sequential_2\"\n",
            "_________________________________________________________________\n",
            " Layer (type)                Output Shape              Param #   \n",
            "=================================================================\n",
            " conv2d_6 (Conv2D)           (None, 254, 254, 16)      160       \n",
            "                                                                 \n",
            " max_pooling2d_6 (MaxPoolin  (None, 127, 127, 16)      0         \n",
            " g2D)                                                            \n",
            "                                                                 \n",
            " conv2d_7 (Conv2D)           (None, 125, 125, 32)      4640      \n",
            "                                                                 \n",
            " max_pooling2d_7 (MaxPoolin  (None, 62, 62, 32)        0         \n",
            " g2D)                                                            \n",
            "                                                                 \n",
            " conv2d_8 (Conv2D)           (None, 60, 60, 16)        4624      \n",
            "                                                                 \n",
            " max_pooling2d_8 (MaxPoolin  (None, 30, 30, 16)        0         \n",
            " g2D)                                                            \n",
            "                                                                 \n",
            " flatten_2 (Flatten)         (None, 14400)             0         \n",
            "                                                                 \n",
            " dense_4 (Dense)             (None, 256)               3686656   \n",
            "                                                                 \n",
            " dense_5 (Dense)             (None, 1)                 257       \n",
            "                                                                 \n",
            "=================================================================\n",
            "Total params: 3696337 (14.10 MB)\n",
            "Trainable params: 3696337 (14.10 MB)\n",
            "Non-trainable params: 0 (0.00 Byte)\n",
            "_________________________________________________________________\n",
            "None\n"
          ]
        }
      ]
    },
    {
      "cell_type": "code",
      "source": [
        "#fit the model(train it and validate it)\n",
        "#train: 4 baches, epochs: how many times to train our model over the trainset\n",
        "#validation set: 17 baches\n",
        "hist = cnn_model.fit(train, epochs=20, validation_data=validat)"
      ],
      "metadata": {
        "colab": {
          "base_uri": "https://localhost:8080/"
        },
        "id": "7TFuvS3BXuDn",
        "outputId": "cea13fab-3659-42c3-d90d-983bd7b1d7a8"
      },
      "execution_count": null,
      "outputs": [
        {
          "output_type": "stream",
          "name": "stdout",
          "text": [
            "Epoch 1/20\n",
            "58/58 [==============================] - 144s 2s/step - loss: 0.5889 - accuracy: 0.6886 - val_loss: 0.4780 - val_accuracy: 0.8051\n",
            "Epoch 2/20\n",
            "58/58 [==============================] - 104s 2s/step - loss: 0.3931 - accuracy: 0.8319 - val_loss: 0.3836 - val_accuracy: 0.8217\n",
            "Epoch 3/20\n",
            "58/58 [==============================] - 102s 2s/step - loss: 0.2377 - accuracy: 0.9009 - val_loss: 0.3609 - val_accuracy: 0.8566\n",
            "Epoch 4/20\n",
            "58/58 [==============================] - 103s 2s/step - loss: 0.1109 - accuracy: 0.9612 - val_loss: 0.3607 - val_accuracy: 0.8750\n",
            "Epoch 5/20\n",
            "58/58 [==============================] - 107s 2s/step - loss: 0.0515 - accuracy: 0.9876 - val_loss: 0.8302 - val_accuracy: 0.8254\n",
            "Epoch 6/20\n",
            "58/58 [==============================] - 102s 2s/step - loss: 0.0339 - accuracy: 0.9925 - val_loss: 0.4407 - val_accuracy: 0.9062\n",
            "Epoch 7/20\n",
            "58/58 [==============================] - 104s 2s/step - loss: 0.0160 - accuracy: 0.9962 - val_loss: 0.4753 - val_accuracy: 0.9062\n",
            "Epoch 8/20\n",
            "58/58 [==============================] - 103s 2s/step - loss: 0.0370 - accuracy: 0.9930 - val_loss: 0.5108 - val_accuracy: 0.8805\n",
            "Epoch 9/20\n",
            "58/58 [==============================] - 105s 2s/step - loss: 0.0132 - accuracy: 0.9978 - val_loss: 0.5173 - val_accuracy: 0.8879\n",
            "Epoch 10/20\n",
            "58/58 [==============================] - 103s 2s/step - loss: 0.0165 - accuracy: 0.9952 - val_loss: 0.6289 - val_accuracy: 0.8732\n",
            "Epoch 11/20\n",
            "58/58 [==============================] - 104s 2s/step - loss: 0.0221 - accuracy: 0.9935 - val_loss: 0.4972 - val_accuracy: 0.8934\n",
            "Epoch 12/20\n",
            "58/58 [==============================] - 104s 2s/step - loss: 0.0077 - accuracy: 0.9995 - val_loss: 0.4451 - val_accuracy: 0.9062\n",
            "Epoch 13/20\n",
            "58/58 [==============================] - 105s 2s/step - loss: 0.0059 - accuracy: 0.9995 - val_loss: 0.5564 - val_accuracy: 0.8897\n",
            "Epoch 14/20\n",
            "58/58 [==============================] - 103s 2s/step - loss: 0.0058 - accuracy: 0.9995 - val_loss: 0.4574 - val_accuracy: 0.9173\n",
            "Epoch 15/20\n",
            "58/58 [==============================] - 104s 2s/step - loss: 0.0031 - accuracy: 0.9989 - val_loss: 0.5141 - val_accuracy: 0.8971\n",
            "Epoch 16/20\n",
            "58/58 [==============================] - 105s 2s/step - loss: 0.0019 - accuracy: 0.9995 - val_loss: 0.5495 - val_accuracy: 0.9099\n",
            "Epoch 17/20\n",
            "58/58 [==============================] - 109s 2s/step - loss: 0.0026 - accuracy: 0.9995 - val_loss: 0.6307 - val_accuracy: 0.8934\n",
            "Epoch 18/20\n",
            "58/58 [==============================] - 110s 2s/step - loss: 0.0028 - accuracy: 0.9995 - val_loss: 0.5485 - val_accuracy: 0.9081\n",
            "Epoch 19/20\n",
            "58/58 [==============================] - 104s 2s/step - loss: 0.0253 - accuracy: 0.9914 - val_loss: 0.7063 - val_accuracy: 0.8805\n",
            "Epoch 20/20\n",
            "58/58 [==============================] - 102s 2s/step - loss: 0.0450 - accuracy: 0.9876 - val_loss: 0.6167 - val_accuracy: 0.8695\n"
          ]
        }
      ]
    },
    {
      "cell_type": "code",
      "source": [
        "import matplotlib.pyplot as plt\n",
        "\n",
        "fig = plt.figure()\n",
        "plt.plot(hist.history['loss'], color='red', label='loss')\n",
        "plt.plot(hist.history['val_loss'], color='orange', label='val_loss')\n",
        "fig.suptitle('Loss', fontsize=20)\n",
        "plt.legend(loc=\"upper left\")\n",
        "plt.show()"
      ],
      "metadata": {
        "colab": {
          "base_uri": "https://localhost:8080/",
          "height": 478
        },
        "id": "Ayiz4QROiXsU",
        "outputId": "01b2a649-2dc5-4247-8434-7d98a14e94d0"
      },
      "execution_count": null,
      "outputs": [
        {
          "output_type": "display_data",
          "data": {
            "text/plain": [
              "<Figure size 640x480 with 1 Axes>"
            ],
            "image/png": "[encoded data removed]"
          },
          "metadata": {}
        }
      ]
    },
    {
      "cell_type": "code",
      "source": [
        "fig = plt.figure()\n",
        "plt.plot(hist.history['accuracy'], color='teal', label='accuracy')\n",
        "plt.plot(hist.history['val_accuracy'], color='orange', label='val_accuracy')\n",
        "fig.suptitle('Accuracy', fontsize=20)\n",
        "plt.legend(loc=\"upper left\")\n",
        "plt.show()"
      ],
      "metadata": {
        "colab": {
          "base_uri": "https://localhost:8080/",
          "height": 478
        },
        "id": "4VJkJysDi53k",
        "outputId": "034394ea-2b38-44dc-d8e7-d258cb80c3fa"
      },
      "execution_count": null,
      "outputs": [
        {
          "output_type": "display_data",
          "data": {
            "text/plain": [
              "<Figure size 640x480 with 1 Axes>"
            ],
            "image/png": "[encoded data removed]"
          },
          "metadata": {}
        }
      ]
    },
    {
      "cell_type": "code",
      "source": [
        "cnn_model_improved= Sequential()\n",
        "cnn_model_improved.add(Conv2D(32, (3,3), 1, activation='relu', input_shape=(256,256,1))),\n",
        "cnn_model_improved.add(MaxPooling2D((2, 2)))\n",
        "cnn_model_improved.add(Dropout(0.25))  # Add dropout after the first convolutional layer\n",
        "\n",
        "cnn_model_improved.add(Conv2D(64, (3, 3), 1, activation='relu'))\n",
        "cnn_model_improved.add(MaxPooling2D((2, 2)))\n",
        "cnn_model_improved.add(Dropout(0.25))  # Add dropout after the second convolutional layer\n",
        "\n",
        "cnn_model_improved.add(Conv2D(16, (3, 3), 1, activation='relu'))\n",
        "cnn_model_improved.add(MaxPooling2D((2, 2)))\n",
        "cnn_model_improved.add(Dropout(0.25))  # Add dropout after the third convolutional layer\n",
        "\n",
        "cnn_model_improved.add(Flatten())\n",
        "cnn_model_improved.add(Dense(128, activation='relu'))\n",
        "cnn_model_improved.add(Dropout(0.5))   # Add dropout before the output layer\n",
        "cnn_model_improved.add(Dense(1, activation='sigmoid'))\n"
      ],
      "metadata": {
        "id": "7NY64TooxAkM"
      },
      "execution_count": null,
      "outputs": []
    },
    {
      "cell_type": "code",
      "source": [
        "#optimizer, loss function, accuracy\n",
        "cnn_model_improved.compile(optimizer='adam', loss = tf.losses.BinaryCrossentropy(), metrics = ['accuracy'])\n",
        "print(cnn_model.summary())"
      ],
      "metadata": {
        "colab": {
          "base_uri": "https://localhost:8080/"
        },
        "id": "MIoEJWgZ51_7",
        "outputId": "22cde543-486e-4c02-e216-3f6000fed765"
      },
      "execution_count": null,
      "outputs": [
        {
          "output_type": "stream",
          "name": "stdout",
          "text": [
            "Model: \"sequential_2\"\n",
            "_________________________________________________________________\n",
            " Layer (type)                Output Shape              Param #   \n",
            "=================================================================\n",
            " conv2d_6 (Conv2D)           (None, 254, 254, 16)      160       \n",
            "                                                                 \n",
            " max_pooling2d_6 (MaxPoolin  (None, 127, 127, 16)      0         \n",
            " g2D)                                                            \n",
            "                                                                 \n",
            " conv2d_7 (Conv2D)           (None, 125, 125, 32)      4640      \n",
            "                                                                 \n",
            " max_pooling2d_7 (MaxPoolin  (None, 62, 62, 32)        0         \n",
            " g2D)                                                            \n",
            "                                                                 \n",
            " conv2d_8 (Conv2D)           (None, 60, 60, 16)        4624      \n",
            "                                                                 \n",
            " max_pooling2d_8 (MaxPoolin  (None, 30, 30, 16)        0         \n",
            " g2D)                                                            \n",
            "                                                                 \n",
            " flatten_2 (Flatten)         (None, 14400)             0         \n",
            "                                                                 \n",
            " dense_4 (Dense)             (None, 256)               3686656   \n",
            "                                                                 \n",
            " dense_5 (Dense)             (None, 1)                 257       \n",
            "                                                                 \n",
            "=================================================================\n",
            "Total params: 3696337 (14.10 MB)\n",
            "Trainable params: 3696337 (14.10 MB)\n",
            "Non-trainable params: 0 (0.00 Byte)\n",
            "_________________________________________________________________\n",
            "None\n"
          ]
        }
      ]
    },
    {
      "cell_type": "code",
      "source": [
        "#fit the model(train it and validate it)\n",
        "#train: 4 baches, epochs: how many times to train our model over the trainset\n",
        "#validation set: 2 baches, callbacks:\n",
        "hist = cnn_model_improved.fit(train, epochs=20, validation_data=validat)"
      ],
      "metadata": {
        "colab": {
          "base_uri": "https://localhost:8080/"
        },
        "id": "kTbFNCon6m_M",
        "outputId": "22b3d024-31f4-4ba1-fffc-5ede09f2d0b8"
      },
      "execution_count": null,
      "outputs": [
        {
          "output_type": "stream",
          "name": "stdout",
          "text": [
            "Epoch 1/20\n",
            "58/58 [==============================] - 214s 4s/step - loss: 0.6169 - accuracy: 0.6595 - val_loss: 0.5463 - val_accuracy: 0.7684\n",
            "Epoch 2/20\n",
            "58/58 [==============================] - 213s 4s/step - loss: 0.4937 - accuracy: 0.7726 - val_loss: 0.4563 - val_accuracy: 0.8143\n",
            "Epoch 3/20\n",
            "58/58 [==============================] - 210s 4s/step - loss: 0.4126 - accuracy: 0.7985 - val_loss: 0.4625 - val_accuracy: 0.8180\n",
            "Epoch 4/20\n",
            "58/58 [==============================] - 229s 4s/step - loss: 0.3085 - accuracy: 0.8707 - val_loss: 0.3880 - val_accuracy: 0.8272\n",
            "Epoch 5/20\n",
            "58/58 [==============================] - 212s 4s/step - loss: 0.2108 - accuracy: 0.9176 - val_loss: 0.3342 - val_accuracy: 0.8640\n",
            "Epoch 6/20\n",
            "58/58 [==============================] - 209s 4s/step - loss: 0.1477 - accuracy: 0.9445 - val_loss: 0.4316 - val_accuracy: 0.8566\n",
            "Epoch 7/20\n",
            "58/58 [==============================] - 212s 4s/step - loss: 0.1116 - accuracy: 0.9591 - val_loss: 0.3876 - val_accuracy: 0.8585\n",
            "Epoch 8/20\n",
            "58/58 [==============================] - 241s 4s/step - loss: 0.1178 - accuracy: 0.9580 - val_loss: 0.3712 - val_accuracy: 0.8842\n",
            "Epoch 9/20\n",
            "58/58 [==============================] - 233s 4s/step - loss: 0.0731 - accuracy: 0.9774 - val_loss: 0.3221 - val_accuracy: 0.9062\n",
            "Epoch 10/20\n",
            "58/58 [==============================] - 216s 4s/step - loss: 0.0711 - accuracy: 0.9774 - val_loss: 0.3051 - val_accuracy: 0.9081\n",
            "Epoch 11/20\n",
            "58/58 [==============================] - 234s 4s/step - loss: 0.0489 - accuracy: 0.9860 - val_loss: 0.3015 - val_accuracy: 0.9228\n",
            "Epoch 12/20\n",
            "58/58 [==============================] - 212s 4s/step - loss: 0.0592 - accuracy: 0.9833 - val_loss: 0.3543 - val_accuracy: 0.9154\n",
            "Epoch 13/20\n",
            "58/58 [==============================] - 215s 4s/step - loss: 0.0352 - accuracy: 0.9919 - val_loss: 0.3193 - val_accuracy: 0.9118\n",
            "Epoch 14/20\n",
            "58/58 [==============================] - 212s 4s/step - loss: 0.0386 - accuracy: 0.9838 - val_loss: 0.2900 - val_accuracy: 0.9301\n",
            "Epoch 15/20\n",
            "58/58 [==============================] - 229s 4s/step - loss: 0.0255 - accuracy: 0.9903 - val_loss: 0.3704 - val_accuracy: 0.9191\n",
            "Epoch 16/20\n",
            "58/58 [==============================] - 212s 4s/step - loss: 0.0303 - accuracy: 0.9919 - val_loss: 0.3727 - val_accuracy: 0.9099\n",
            "Epoch 17/20\n",
            "58/58 [==============================] - 214s 4s/step - loss: 0.0377 - accuracy: 0.9881 - val_loss: 0.3851 - val_accuracy: 0.9136\n",
            "Epoch 18/20\n",
            "58/58 [==============================] - 240s 4s/step - loss: 0.0491 - accuracy: 0.9860 - val_loss: 0.3760 - val_accuracy: 0.9210\n",
            "Epoch 19/20\n",
            "58/58 [==============================] - 260s 4s/step - loss: 0.0315 - accuracy: 0.9919 - val_loss: 0.3317 - val_accuracy: 0.9210\n",
            "Epoch 20/20\n",
            "58/58 [==============================] - 234s 4s/step - loss: 0.0128 - accuracy: 0.9962 - val_loss: 0.4684 - val_accuracy: 0.9026\n"
          ]
        }
      ]
    },
    {
      "cell_type": "code",
      "source": [
        "fig = plt.figure()\n",
        "plt.plot(hist.history['loss'], color='red', label='loss')\n",
        "plt.plot(hist.history['val_loss'], color='orange', label='val_loss')\n",
        "fig.suptitle('Loss', fontsize=20)\n",
        "plt.legend(loc=\"upper left\")\n",
        "plt.show()"
      ],
      "metadata": {
        "colab": {
          "base_uri": "https://localhost:8080/",
          "height": 478
        },
        "id": "Z1HEtYXXFdXu",
        "outputId": "95ae0c1d-d8a5-447d-9f75-f18c7928de4e"
      },
      "execution_count": null,
      "outputs": [
        {
          "output_type": "display_data",
          "data": {
            "text/plain": [
              "<Figure size 640x480 with 1 Axes>"
            ],
            "image/png": "[encoded data removed]"
          },
          "metadata": {}
        }
      ]
    },
    {
      "cell_type": "code",
      "source": [
        "fig = plt.figure()\n",
        "plt.plot(hist.history['accuracy'], color='teal', label='accuracy')\n",
        "plt.plot(hist.history['val_accuracy'], color='orange', label='val_accuracy')\n",
        "fig.suptitle('Accuracy', fontsize=20)\n",
        "plt.legend(loc=\"upper left\")\n",
        "plt.show()"
      ],
      "metadata": {
        "colab": {
          "base_uri": "https://localhost:8080/",
          "height": 478
        },
        "id": "EXdL6eHFFc3P",
        "outputId": "e2debef4-d0d9-488d-bcd4-2ca91c60b193"
      },
      "execution_count": null,
      "outputs": [
        {
          "output_type": "display_data",
          "data": {
            "text/plain": [
              "<Figure size 640x480 with 1 Axes>"
            ],
            "image/png": "[encoded data removed]"
          },
          "metadata": {}
        }
      ]
    },
    {
      "cell_type": "code",
      "source": [
        "from tensorflow.keras.metrics import Precision, Recall, BinaryAccuracy\n",
        "precision_measure = Precision()\n",
        "recall = Recall()\n",
        "accuracy = BinaryAccuracy()\n",
        "\n",
        "for batch in test.as_numpy_iterator():\n",
        "    X, y = batch\n",
        "    y_pred = cnn_model_improved.predict(X)\n",
        "    precision_measure.update_state(y, y_pred)\n",
        "    recall.update_state(y, y_pred)\n",
        "    accuracy.update_state(y, y_pred)"
      ],
      "metadata": {
        "colab": {
          "base_uri": "https://localhost:8080/"
        },
        "id": "D_m-4ViNAZIs",
        "outputId": "7eefdf5d-95f0-420c-ec86-c64bf00f202d"
      },
      "execution_count": null,
      "outputs": [
        {
          "output_type": "stream",
          "name": "stdout",
          "text": [
            "1/1 [==============================] - 1s 838ms/step\n",
            "1/1 [==============================] - 1s 1s/step\n",
            "1/1 [==============================] - 1s 1s/step\n",
            "1/1 [==============================] - 1s 1s/step\n",
            "1/1 [==============================] - 1s 755ms/step\n",
            "1/1 [==============================] - 1s 758ms/step\n",
            "1/1 [==============================] - 1s 800ms/step\n",
            "1/1 [==============================] - 0s 447ms/step\n"
          ]
        }
      ]
    },
    {
      "cell_type": "code",
      "source": [
        "print(precision_measure.result().numpy(), recall.result().numpy(), accuracy.result().numpy())"
      ],
      "metadata": {
        "colab": {
          "base_uri": "https://localhost:8080/"
        },
        "id": "Tc3_kSbbQaFh",
        "outputId": "50357018-d3ae-4567-e6b7-5d1b0483e861"
      },
      "execution_count": null,
      "outputs": [
        {
          "output_type": "stream",
          "name": "stdout",
          "text": [
            "0.8888889 0.88135594 0.8875\n"
          ]
        }
      ]
    }
  ]
}